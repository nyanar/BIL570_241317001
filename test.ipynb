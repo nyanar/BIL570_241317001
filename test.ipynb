{
 "cells": [
  {
   "cell_type": "code",
   "execution_count": 10,
   "id": "85ab3d5c-1400-47b0-a872-d78aca7d1b0c",
   "metadata": {},
   "outputs": [
    {
     "name": "stdout",
     "output_type": "stream",
     "text": [
      "Test setleri oluşturuldu.\n"
     ]
    }
   ],
   "source": [
    "import os\n",
    "import numpy as np\n",
    "import pandas as pd\n",
    "from sklearn.ensemble import RandomForestRegressor\n",
    "from sklearn.metrics import mean_absolute_error\n",
    "\n",
    "# Veri ve klasör\n",
    "df = pd.read_csv(\"birlesik_veri.csv\", parse_dates=[\"datetime\"])\n",
    "df = df.sort_values(\"datetime\")\n",
    "os.makedirs(\"test_sets\", exist_ok=True)\n",
    "\n",
    "# Girdi-çıktı ayrımı\n",
    "features = [col for col in df.columns if col not in [\"datetime\", \"PTF (TL/MWh)\"]]\n",
    "target = \"PTF (TL/MWh)\"\n",
    "\n",
    "# Modeli sadece eğit 10 günlük\n",
    "train_df = df[df[\"datetime\"] < \"2024-07-01\"]\n",
    "test_dates = pd.date_range(\"2024-07-01\", \"2024-07-10\", freq=\"D\")\n",
    "\n",
    "X_train = train_df[features]\n",
    "y_train = train_df[target]\n",
    "\n",
    "model = RandomForestRegressor().fit(X_train, y_train)\n",
    "\n",
    "# Her tarih için test verisi al ve npy olarak kaydet\n",
    "for dt in test_dates:\n",
    "    test_df = df[(df[\"datetime\"] >= dt) & (df[\"datetime\"] < dt + pd.Timedelta(days=1))]\n",
    "    if len(test_df) < 24: continue  # eksikse atla\n",
    "\n",
    "    X_test = test_df[features]\n",
    "    y_true = test_df[target].values\n",
    "    y_pred = model.predict(X_test)\n",
    "\n",
    "    date_str = dt.strftime(\"%Y%m%d\")\n",
    "    np.save(f\"test_sets/y_true_{date_str}.npy\", y_true)\n",
    "    np.save(f\"test_sets/y_pred_{date_str}.npy\", y_pred)\n",
    "\n",
    "print(\"Test setleri oluşturuldu.\")\n"
   ]
  },
  {
   "cell_type": "code",
   "execution_count": 11,
   "id": "81e91fe7-36fc-48ab-8346-08899b76da12",
   "metadata": {},
   "outputs": [
    {
     "name": "stderr",
     "output_type": "stream",
     "text": [
      "C:\\Users\\Admin\\AppData\\Local\\Temp\\ipykernel_17160\\1258239682.py:41: FutureWarning: 'H' is deprecated and will be removed in a future version, please use 'h' instead.\n",
      "  zaman = pd.date_range(start=pd.to_datetime(date_str), periods=len(y_true), freq=\"H\")\n",
      "C:\\Users\\Admin\\AppData\\Local\\Temp\\ipykernel_17160\\1258239682.py:41: FutureWarning: 'H' is deprecated and will be removed in a future version, please use 'h' instead.\n",
      "  zaman = pd.date_range(start=pd.to_datetime(date_str), periods=len(y_true), freq=\"H\")\n",
      "C:\\Users\\Admin\\AppData\\Local\\Temp\\ipykernel_17160\\1258239682.py:41: FutureWarning: 'H' is deprecated and will be removed in a future version, please use 'h' instead.\n",
      "  zaman = pd.date_range(start=pd.to_datetime(date_str), periods=len(y_true), freq=\"H\")\n",
      "C:\\Users\\Admin\\AppData\\Local\\Temp\\ipykernel_17160\\1258239682.py:41: FutureWarning: 'H' is deprecated and will be removed in a future version, please use 'h' instead.\n",
      "  zaman = pd.date_range(start=pd.to_datetime(date_str), periods=len(y_true), freq=\"H\")\n",
      "C:\\Users\\Admin\\AppData\\Local\\Temp\\ipykernel_17160\\1258239682.py:41: FutureWarning: 'H' is deprecated and will be removed in a future version, please use 'h' instead.\n",
      "  zaman = pd.date_range(start=pd.to_datetime(date_str), periods=len(y_true), freq=\"H\")\n",
      "C:\\Users\\Admin\\AppData\\Local\\Temp\\ipykernel_17160\\1258239682.py:41: FutureWarning: 'H' is deprecated and will be removed in a future version, please use 'h' instead.\n",
      "  zaman = pd.date_range(start=pd.to_datetime(date_str), periods=len(y_true), freq=\"H\")\n",
      "C:\\Users\\Admin\\AppData\\Local\\Temp\\ipykernel_17160\\1258239682.py:41: FutureWarning: 'H' is deprecated and will be removed in a future version, please use 'h' instead.\n",
      "  zaman = pd.date_range(start=pd.to_datetime(date_str), periods=len(y_true), freq=\"H\")\n",
      "C:\\Users\\Admin\\AppData\\Local\\Temp\\ipykernel_17160\\1258239682.py:41: FutureWarning: 'H' is deprecated and will be removed in a future version, please use 'h' instead.\n",
      "  zaman = pd.date_range(start=pd.to_datetime(date_str), periods=len(y_true), freq=\"H\")\n",
      "C:\\Users\\Admin\\AppData\\Local\\Temp\\ipykernel_17160\\1258239682.py:41: FutureWarning: 'H' is deprecated and will be removed in a future version, please use 'h' instead.\n",
      "  zaman = pd.date_range(start=pd.to_datetime(date_str), periods=len(y_true), freq=\"H\")\n",
      "C:\\Users\\Admin\\AppData\\Local\\Temp\\ipykernel_17160\\1258239682.py:41: FutureWarning: 'H' is deprecated and will be removed in a future version, please use 'h' instead.\n",
      "  zaman = pd.date_range(start=pd.to_datetime(date_str), periods=len(y_true), freq=\"H\")\n"
     ]
    },
    {
     "name": "stdout",
     "output_type": "stream",
     "text": [
      "      Tarih     MAE  MAPE (%)\n",
      "0  20240701  183.91      6.53\n",
      "1  20240702  262.68      8.93\n",
      "2  20240703  267.22      9.08\n",
      "3  20240704  310.74     10.42\n",
      "4  20240705  141.64      4.89\n",
      "5  20240706   65.84      2.94\n",
      "6  20240707   73.34      3.78\n",
      "7  20240708  133.37      5.07\n",
      "8  20240709  148.68      5.31\n",
      "9  20240710  224.21      7.63\n"
     ]
    }
   ],
   "source": [
    "import os\n",
    "import numpy as np\n",
    "import pandas as pd\n",
    "import matplotlib.pyplot as plt\n",
    "from sklearn.metrics import mean_absolute_error, mean_absolute_percentage_error\n",
    "\n",
    "# Test klasörü\n",
    "test_dir = \"test_sets\"\n",
    "os.makedirs(\"grafikler\", exist_ok=True)\n",
    "\n",
    "results = []\n",
    "\n",
    "# Tüm dosyaları sırala\n",
    "files = sorted(os.listdir(test_dir))\n",
    "\n",
    "# Her tarih için X, y_true, y_pred yükle ve değerlendir\n",
    "for file in files:\n",
    "    if file.startswith(\"y_true_\") and file.endswith(\".npy\"):\n",
    "        date_str = file.split(\"_\")[-1].split(\".\")[0]\n",
    "        y_true_path = os.path.join(test_dir, f\"y_true_{date_str}.npy\")\n",
    "        y_pred_path = os.path.join(test_dir, f\"y_pred_{date_str}.npy\")  # Bu dosya varsa kullanılacak\n",
    "\n",
    "        if not os.path.exists(y_pred_path):\n",
    "            continue  # Tahmin yoksa geç\n",
    "\n",
    "        # Verileri yükle\n",
    "        y_true = np.load(y_true_path)\n",
    "        y_pred = np.load(y_pred_path)\n",
    "\n",
    "        # Metrikler\n",
    "        mae = mean_absolute_error(y_true, y_pred)\n",
    "        mape = mean_absolute_percentage_error(y_true, y_pred) * 100\n",
    "\n",
    "        results.append({\n",
    "            \"Tarih\": date_str,\n",
    "            \"MAE\": round(mae, 2),\n",
    "            \"MAPE (%)\": round(mape, 2)\n",
    "        })\n",
    "\n",
    "        # Grafik çiz\n",
    "        zaman = pd.date_range(start=pd.to_datetime(date_str), periods=len(y_true), freq=\"h\")\n",
    "        plt.figure(figsize=(12, 4))\n",
    "        plt.plot(zaman, y_true, label=\"Gerçek PTF\", color=\"blue\")\n",
    "        plt.plot(zaman, y_pred, label=\"Tahmin\", color=\"orange\", linestyle=\"--\")\n",
    "        plt.title(f\"{date_str} Tahmini\\nMAE={mae:.2f} TL/MWh, MAPE={mape:.2f}%\")\n",
    "        plt.xlabel(\"Saat\")\n",
    "        plt.ylabel(\"PTF (TL/MWh)\")\n",
    "        plt.xticks(rotation=45)\n",
    "        plt.grid(True)\n",
    "        plt.legend()\n",
    "        plt.tight_layout()\n",
    "        plt.savefig(f\"grafikler/tahmin_{date_str}.png\")\n",
    "        plt.close()\n",
    "\n",
    "# Sonuçları tablo olarak göster\n",
    "df_results = pd.DataFrame(results)\n",
    "print(df_results)\n",
    "\n"
   ]
  },
  {
   "cell_type": "code",
   "execution_count": null,
   "id": "47b8f4ee-7467-4cab-a432-70cc6f8522c3",
   "metadata": {},
   "outputs": [],
   "source": []
  }
 ],
 "metadata": {
  "kernelspec": {
   "display_name": "Python 3 (ipykernel)",
   "language": "python",
   "name": "python3"
  },
  "language_info": {
   "codemirror_mode": {
    "name": "ipython",
    "version": 3
   },
   "file_extension": ".py",
   "mimetype": "text/x-python",
   "name": "python",
   "nbconvert_exporter": "python",
   "pygments_lexer": "ipython3",
   "version": "3.12.7"
  }
 },
 "nbformat": 4,
 "nbformat_minor": 5
}
